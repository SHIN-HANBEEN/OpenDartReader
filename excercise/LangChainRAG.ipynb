{
 "cells": [
  {
   "cell_type": "markdown",
   "id": "019c8008",
   "metadata": {},
   "source": [
    "#  Fine-tuning vs RAG 비교\n",
    "\n",
    "##  파인튜닝(Fine-tuning)\n",
    "\n",
    "- **필요한 데이터**: 질문-답변 쌍 (Q&A) 형식의 `.jsonl` 파일. 허깅페이스와 GPT 모두 학습시킬 때 jsonl 파일형태를 사용합니다.\n",
    "- **작동 방식**: 모델에게 특정 유형의 질문과 그에 대한 정답을 \"학습\"\n",
    "- **활용 사례**: 정형화된 응답, 고정된 문체 또는 스타일 학습에 적합\n",
    "- **단점**:\n",
    "  - 질문/답변 쌍을 미리 만들어야 함\n",
    "  - 데이터 변경 시마다 재학습 필요\n",
    "  - 학습에 비용과 시간이 듦\n",
    "\n",
    "---\n",
    "\n",
    "##  RAG (Retrieval-Augmented Generation)\n",
    "\n",
    "- **필요한 데이터**: 일반 문서(PDF, txt 등)\n",
    "- **작동 방식**: 질문을 하면 관련 내용을 문서에서 찾아 LLM이 답변 생성\n",
    "- **활용 사례**: 문서 기반 질의응답, 문서 요약, 실시간 검색 기반 답변\n",
    "- **장점**:\n",
    "  - 질문/답변 쌍 없이 사용 가능\n",
    "  - 문서만 준비하면 곧바로 작동\n",
    "  - 문서 추가/수정이 쉬움 (재학습 불필요)\n",
    "\n",
    "---\n",
    "\n",
    "##  요약 비교\n",
    "\n",
    "| 항목 | Fine-tuning | RAG |\n",
    "|------|-------------|-----|\n",
    "| 학습 데이터 | 질문 + 답변 | 문서만 |\n",
    "| 학습 필요 | 필요함 | 필요 없음 |\n",
    "| 실시간 업데이트 | 어렵다 | 가능하다 |\n",
    "| 유연한 질문 처리 | 제한적 | 유연함 |\n",
    "| 구축 난이도 | 높음 | 낮음 (LangChain 등으로 구현 쉬움) |\n",
    "\n",
    "---\n",
    "\n",
    "##  결론\n",
    "\n",
    "> **질문-답변 쌍이 없다면 Fine-tuning보다는 RAG를 추천.**"
   ]
  },
  {
   "cell_type": "markdown",
   "id": "08ce61b8",
   "metadata": {},
   "source": [
    "# 랭체인 RAG"
   ]
  },
  {
   "cell_type": "code",
   "execution_count": null,
   "id": "27d937b4",
   "metadata": {},
   "outputs": [],
   "source": [
    "# 설치 \n",
    "%pip install langchain_community # langchain 커뮤니티 확장\n",
    "%pip install pypdf # PDF 읽기\n",
    "%pip install faiss-cpu # 임베딩"
   ]
  },
  {
   "cell_type": "code",
   "execution_count": 11,
   "id": "2f238cd4",
   "metadata": {},
   "outputs": [],
   "source": [
    "from langchain.prompts import PromptTemplate\n",
    "from langchain_openai import ChatOpenAI\n",
    "from langchain.document_loaders import PyPDFLoader, JSONLoader, CSVLoader, WebBaseLoader, ImageCaptionLoader\n",
    "from langchain.text_splitter import RecursiveCharacterTextSplitter, TextSplitter # RecursiveCharacterTextSplitter 는 문장이 잘리면 안되는 경우에 사용(문장이 예쁘게 잘리게 도와줌)\n",
    "from langchain_openai import OpenAIEmbeddings\n",
    "from langchain.vectorstores import FAISS # vector DB\n",
    "from langchain.chains import RetrievalQA # RAG. 질문-답변(질문을 넣으면 관련된 문서를 찾아서 답변 => 유사도 검색)\n",
    "import warnings \n",
    "warnings.simplefilter('ignore')"
   ]
  },
  {
   "cell_type": "markdown",
   "id": "c9d38d43",
   "metadata": {},
   "source": [
    "### 문서읽기"
   ]
  },
  {
   "cell_type": "code",
   "execution_count": 18,
   "id": "90fbf746",
   "metadata": {},
   "outputs": [
    {
     "data": {
      "text/plain": [
       "3"
      ]
     },
     "execution_count": 18,
     "metadata": {},
     "output_type": "execute_result"
    }
   ],
   "source": [
    "pdfloader = PyPDFLoader('../download/예시사업보고서.pdf')\n",
    "document = pdfloader.load()\n",
    "len( document)"
   ]
  },
  {
   "cell_type": "code",
   "execution_count": 19,
   "id": "af818cc0",
   "metadata": {},
   "outputs": [
    {
     "name": "stdout",
     "output_type": "stream",
     "text": [
      "Sample Company \n",
      "Balance Sheet \n",
      "September 30, 2021 \n",
      " \n",
      "Assets  Liabilities and Stockholders’ Equity \n",
      "Current Assets:  Current Liabilities:  \n",
      "Cash $ 1,550 Accounts payable $60 \n",
      "Accounts receivable 770 Interest payable   80 \n",
      "Supplies 40 Wages payable   100 \n",
      "Total current assets 2,360 Income taxes payable \n",
      "Utilities payable \n",
      "  405 \n",
      "  250 \n",
      "  Total Current Liabilities   895 \n",
      "     \n",
      "Equipment  12,000 Long-term Notes Payable   8,000 \n",
      "Less: Accumulated deprec. (1,300)   \n",
      " 10,700 Owners' Equity:  \n",
      "  Owners’ capital   2,900 \n",
      "  Retained earnings   1,265 \n",
      "  Total equity   \n",
      "  4,165  \n",
      " \n",
      "Total assets \n",
      " \n",
      "$13,060 \n",
      "Total liabilities and \n",
      "owners' equity \n",
      " \n",
      "  $13,060\n",
      "----------------\n"
     ]
    }
   ],
   "source": [
    "for doc in document[2:3]:\n",
    "    print( doc.page_content)\n",
    "    print('----------------')"
   ]
  },
  {
   "cell_type": "markdown",
   "id": "f1ddd41c",
   "metadata": {},
   "source": [
    "### 문서 자르기"
   ]
  },
  {
   "cell_type": "code",
   "execution_count": 20,
   "id": "f1e5c8b2",
   "metadata": {},
   "outputs": [],
   "source": [
    "splitter = RecursiveCharacterTextSplitter(chunk_size=500, chunk_overlap=20) # overlap: 겹치는 부분(문장이 잘리는 것을 방지하기 위해서 최대 20자 겹침)\n",
    "splittedDoc = splitter.split_documents( document) # 문서 나누기"
   ]
  },
  {
   "cell_type": "code",
   "execution_count": 21,
   "id": "24b9f5ae",
   "metadata": {},
   "outputs": [
    {
     "data": {
      "text/plain": [
       "6"
      ]
     },
     "execution_count": 21,
     "metadata": {},
     "output_type": "execute_result"
    }
   ],
   "source": [
    "len(splittedDoc)"
   ]
  },
  {
   "cell_type": "markdown",
   "id": "49a3290c",
   "metadata": {},
   "source": [
    "### Embedding"
   ]
  },
  {
   "cell_type": "code",
   "execution_count": 22,
   "id": "dc7a061a",
   "metadata": {},
   "outputs": [],
   "source": [
    "embedding = OpenAIEmbeddings( model='text-embedding-3-small')\n",
    "## 임베딩 모델은 \n",
    "# 고품질(정확도 우선): text-embedding-3-large\n",
    "# 비용/속도 우선(트레이드오프 있음): text-embedding-3-small\n",
    "# 기존 코드에 있던 text-embedding-ada-002도 동작하지만 최신 권장 모델로 교체하는 게 낫습니다.\n",
    "## 벡터db에 저장되는 종류 # 벡터 디비에 저장할 때는 아래와 같은 3가지 정보를 같이 저장 # 나중에 유사도 검색 시 몇 페이지에 어디에 있는 내용이었는지를 다 알 수 있음\n",
    "## 1. page_content : embdding 저장\n",
    "## 2. 원본텍스트도 저장\n",
    "## 3. 각종정보:pdf이름 페이지번호,..\n",
    "vdb = FAISS.from_documents( splittedDoc, embedding)"
   ]
  },
  {
   "cell_type": "code",
   "execution_count": null,
   "id": "1f9060dd",
   "metadata": {},
   "outputs": [],
   "source": [
    "# vdb.save_local('myfaiss') # 메모리에 저장된 벡터db를 로컬에 저장\n",
    "# FAISS.load_local('myfaiss') # 로컬에 저장된 벡터db를 메모리에 로드"
   ]
  },
  {
   "cell_type": "code",
   "execution_count": 23,
   "id": "6174760c",
   "metadata": {},
   "outputs": [
    {
     "name": "stdout",
     "output_type": "stream",
     "text": [
      "{'query': '제공된 문서의 내용을 요약해줘', 'result': \"다음은 제공된 Sample Company의 재무제표 내용을 간략히 요약한 것입니다 (2021년 9월 30일 종료).\\n\\n- 구성 문서\\n  - 손익계산서(제품형)\\n  - 손익계산서(서비스형)\\n  - 포괄손익계산서? 아닌, 이익잉여금표? (Statement of Retained Earnings)\\n  - 대차대조표(Balance Sheet)\\n\\n- 손익계산서 요약\\n  - 제품형:\\n    - 매출원가( COGS ): 4,125\\n    - 매출액( Sales revenue ): 6,875\\n    - 매출총이익: 2,750\\n    - 영업비용 합계: 1,360\\n    - 영업이익: 1,390\\n    - 이자비용: 40\\n    - 세전이익: 1,350\\n    - 법인세비용: 405\\n    - 순이익: 945\\n  - 서비스형:\\n    - 서비스매출: 2,750\\n    - 기타 비용은 동일하게 영업비용 1,360, 영업이익 1,390\\n    - 이자비용: 40\\n    - 세전이익: 1,350\\n    - 법인세비용: 405\\n    - 순이익: 945\\n  - 관찰: 매출 규모가 다르지만 두 형식 모두 순이익 945로 동일하게 나옴. 비용구조는 동일.\\n\\n- 이익잉여금(Statement of Retained Earnings) 요약\\n  - 기초 Retained Earnings: 820\\n  - 순이익: 945\\n  - 배당금: (500)\\n  - 기말 Retained Earnings: 1,265\\n  - 해석: 순이익에서 배당금을 차감하고 누적 증가.\\n\\n- 대차대조표 요약\\n  - 자산\\n    - 현재자산 합계: 2,360\\n      - 현금 1,550; 매출채권 770; 재고/소모자산(소모품) 40\\n    - 비유동자산: 설비 12,000, 감가누계 1,300\\n      - 순설비: 10,700\\n    - 총자산: 13,060\\n  - 부채 및 자본\\n    - 현재부채 합계: 895\\n      - 매입채무 60; 이자부채 80; 임금채무 100; 법인세 예수금 405; Utilities payable 250\\n    - 장기부채: 8,000\\n    - 총부채: 8,895\\n    - 소유주지분(Owner's Equity): 총자산 - 총부채 = 4,165\\n      - (세부 항목은 표에 명시되지만, 본문에선 합계치로만 제시)\\n\\n요약하면, 두 손익계산서는 매출 규모가 다름에도 순이익은 동일하고, 자산은 약 13,060, 부채는 8,895, 잔여 자본은 4,165로 대략적인 재무구조를 보입니다. Retained Earnings은 820에서 시작해 1,265로 증가했고, 연간 순이익 945가 배당 500을 차감한 결과입니다.\"}\n"
     ]
    }
   ],
   "source": [
    "gpt = ChatOpenAI( model='gpt-5-nano', temperature=0)\n",
    "retriever = vdb.as_retriever() # vdb.as_retriever(k=4) 기본 값은 k=4 로 유사도 검색을 진행합니다\n",
    "qa = RetrievalQA.from_chain_type( llm=gpt, chain_type='stuff',\n",
    "                        retriever=retriever) # model 과 retriever 연결\n",
    "query = \"제공된 문서의 내용을 요약해줘\"\n",
    "result = qa.invoke( {'query':query})\n",
    "print( result )"
   ]
  }
 ],
 "metadata": {
  "kernelspec": {
   "display_name": "Python 3",
   "language": "python",
   "name": "python3"
  },
  "language_info": {
   "codemirror_mode": {
    "name": "ipython",
    "version": 3
   },
   "file_extension": ".py",
   "mimetype": "text/x-python",
   "name": "python",
   "nbconvert_exporter": "python",
   "pygments_lexer": "ipython3",
   "version": "3.10.9"
  }
 },
 "nbformat": 4,
 "nbformat_minor": 5
}
